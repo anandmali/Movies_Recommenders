{
  "cells": [
    {
      "cell_type": "markdown",
      "metadata": {
        "id": "view-in-github",
        "colab_type": "text"
      },
      "source": [
        "<a href=\"https://colab.research.google.com/github/anandmali/Movies_Recommenders/blob/main/retrieval_model.ipynb\" target=\"_parent\"><img src=\"https://colab.research.google.com/assets/colab-badge.svg\" alt=\"Open In Colab\"/></a>"
      ]
    },
    {
      "cell_type": "markdown",
      "metadata": {
        "id": "n-s4VQ6-vmhL"
      },
      "source": [
        "#### Imports"
      ]
    },
    {
      "cell_type": "code",
      "execution_count": null,
      "metadata": {
        "id": "MLAP9ksPx7TO",
        "scrolled": true
      },
      "outputs": [],
      "source": [
        "!pip install -q tensorflow-recommenders\n",
        "!pip install -q --upgrade tensorflow-datasets\n",
        "!pip install -q scann"
      ]
    },
    {
      "cell_type": "code",
      "execution_count": 2,
      "metadata": {
        "id": "LOmK1v-9vmhT"
      },
      "outputs": [],
      "source": [
        "import os\n",
        "import pprint\n",
        "import tempfile\n",
        "\n",
        "from typing import Dict, Text\n",
        "\n",
        "import numpy as np\n",
        "import tensorflow as tf\n",
        "import tensorflow_datasets as tfds"
      ]
    },
    {
      "cell_type": "code",
      "execution_count": 3,
      "metadata": {
        "id": "cJxNJIPvvmhU"
      },
      "outputs": [],
      "source": [
        "import tensorflow_recommenders as tfrs"
      ]
    },
    {
      "cell_type": "markdown",
      "metadata": {
        "id": "W0xKDUW6vmhV"
      },
      "source": [
        "Preparing data"
      ]
    },
    {
      "cell_type": "markdown",
      "metadata": {
        "id": "aI4SxCOMvmhV"
      },
      "source": [
        "#### movielens/100k-ratings\n",
        "This dataset contains 100,000 ratings from 943 users on 1,682 movies. This dataset is the oldest version of the MovieLens dataset."
      ]
    },
    {
      "cell_type": "code",
      "execution_count": null,
      "metadata": {
        "id": "u0tz1UCZvmhV"
      },
      "outputs": [],
      "source": [
        "# Getting ratings dataset.\n",
        "ratings = tfds.load(\"movielens/100k-ratings\", split=\"train\")"
      ]
    },
    {
      "cell_type": "markdown",
      "metadata": {
        "id": "AMHQGVo8vmhW"
      },
      "source": [
        "#### movielens/100k-movies\n",
        "This dataset contains data of 1,682 movies rated in the 100k dataset. Dict with id, title, and genres."
      ]
    },
    {
      "cell_type": "code",
      "execution_count": 28,
      "metadata": {
        "id": "ROE-gKfgvmhW"
      },
      "outputs": [],
      "source": [
        "# Features of all the available movies.\n",
        "movies = tfds.load(\"movielens/100k-movies\", split=\"train\")"
      ]
    },
    {
      "cell_type": "code",
      "execution_count": 29,
      "metadata": {
        "colab": {
          "base_uri": "https://localhost:8080/"
        },
        "id": "1fl2JVJxvmhX",
        "outputId": "452139dc-b5dc-45f3-bb92-1dec5437675d"
      },
      "outputs": [
        {
          "output_type": "stream",
          "name": "stdout",
          "text": [
            "{'movie_title': b\"One Flew Over the Cuckoo's Nest (1975)\", 'user_id': b'138'}\n",
            "{'movie_title': b'Strictly Ballroom (1992)', 'user_id': b'92'}\n",
            "{'movie_title': b'Very Brady Sequel, A (1996)', 'user_id': b'301'}\n",
            "{'movie_title': b'Pulp Fiction (1994)', 'user_id': b'60'}\n",
            "{'movie_title': b'Scream 2 (1997)', 'user_id': b'197'}\n",
            "{'movie_title': b'Crash (1996)', 'user_id': b'601'}\n",
            "{'movie_title': b'Aladdin (1992)', 'user_id': b'710'}\n",
            "{'movie_title': b'True Romance (1993)', 'user_id': b'833'}\n",
            "{'movie_title': b'Bob Roberts (1992)', 'user_id': b'916'}\n",
            "{'movie_title': b'Starship Troopers (1997)', 'user_id': b'940'}\n",
            "b'You So Crazy (1994)'\n",
            "b'Love Is All There Is (1996)'\n",
            "b'Fly Away Home (1996)'\n",
            "b'In the Line of Duty 2 (1987)'\n",
            "b'Niagara, Niagara (1997)'\n",
            "b\"Young Poisoner's Handbook, The (1995)\"\n",
            "b'Age of Innocence, The (1993)'\n",
            "b'Flirt (1995)'\n",
            "b'Frisk (1995)'\n",
            "b'unknown'\n"
          ]
        }
      ],
      "source": [
        "ratings = ratings.map(lambda x: {\n",
        "    \"movie_title\": x[\"movie_title\"],\n",
        "    \"user_id\": x[\"user_id\"],\n",
        "})\n",
        "\n",
        "# Printing for evaluation\n",
        "for x in ratings.take(10).as_numpy_iterator():\n",
        "  pprint.pprint(x)\n",
        "\n",
        "movies = movies.map(lambda x: x[\"movie_title\"])\n",
        "\n",
        "for x in movies.take(10).as_numpy_iterator():\n",
        "  pprint.pprint(x)\n"
      ]
    },
    {
      "cell_type": "markdown",
      "metadata": {
        "id": "HrzWGWsivmhY"
      },
      "source": [
        "#### Split data for training and evaluation"
      ]
    },
    {
      "cell_type": "markdown",
      "metadata": {
        "id": "-oRHvGc9vmhY"
      },
      "source": [
        "To fit and evaluate the model, we need to split it into a training and evaluation set. In an industrial recommender system, this would most likely be done by time: the data up to time  T  would be used to predict interactions after  T .\n",
        "\n",
        "In this simple example, however, let's use a random split, putting 80% of the ratings in the train set, and 20% in the test set."
      ]
    },
    {
      "cell_type": "code",
      "execution_count": 30,
      "metadata": {
        "id": "m4YXNfF4vmhZ"
      },
      "outputs": [],
      "source": [
        "tf.random.set_seed(42)\n",
        "shuffled = ratings.shuffle(100_000, seed=42, reshuffle_each_iteration=False)\n",
        "\n",
        "train = shuffled.take(80_000)\n",
        "test = shuffled.skip(80_000).take(20_000)"
      ]
    },
    {
      "cell_type": "markdown",
      "metadata": {
        "id": "C_1-PX2wvmhZ"
      },
      "source": [
        "Let's also figure out unique user ids and movie titles present in the data.\n",
        "\n",
        "This is important because we need to be able to map the raw values of our categorical features to embedding vectors in our models. To do that, we need a vocabulary that maps a raw feature value to an integer in a contiguous range: this allows us to look up the corresponding embeddings in our embedding tables.\n",
        "\n",
        "This is required to help in lookup of features associated with the indices in querry tower."
      ]
    },
    {
      "cell_type": "code",
      "execution_count": 37,
      "metadata": {
        "colab": {
          "base_uri": "https://localhost:8080/"
        },
        "id": "Sucl0dktvmha",
        "outputId": "3a1afe46-7c3a-4136-f96d-083e10f5e4f3"
      },
      "outputs": [
        {
          "output_type": "stream",
          "name": "stdout",
          "text": [
            "array([b\"'Til There Was You (1997)\", b'1-900 (1994)',\n",
            "       b'101 Dalmatians (1996)', b'12 Angry Men (1957)', b'187 (1997)',\n",
            "       b'2 Days in the Valley (1996)',\n",
            "       b'20,000 Leagues Under the Sea (1954)',\n",
            "       b'2001: A Space Odyssey (1968)',\n",
            "       b'3 Ninjas: High Noon At Mega Mountain (1998)',\n",
            "       b'39 Steps, The (1935)'], dtype=object)\n",
            "array([b'1', b'10', b'100', b'101', b'102', b'103', b'104', b'105',\n",
            "       b'106', b'107'], dtype=object)\n"
          ]
        }
      ],
      "source": [
        "movie_titles = movies.batch(1_000)\n",
        "user_ids = ratings.batch(1_000_000).map(lambda x: x[\"user_id\"])\n",
        "\n",
        "unique_movie_titles = np.unique(np.concatenate(list(movie_titles)))\n",
        "unique_user_ids = np.unique(np.concatenate(list(user_ids)))\n",
        "\n",
        "t = unique_movie_titles[:10]\n",
        "pprint.pprint(t)\n",
        "\n",
        "i = unique_user_ids[:10]\n",
        "pprint.pprint(i)\n"
      ]
    },
    {
      "cell_type": "markdown",
      "metadata": {
        "id": "MS-_UL5wvmha"
      },
      "source": [
        "#### Two tower model"
      ]
    },
    {
      "cell_type": "markdown",
      "metadata": {
        "id": "C4it5Zp3vmhb"
      },
      "source": [
        "define dimesion of both towers"
      ]
    },
    {
      "cell_type": "code",
      "execution_count": 38,
      "metadata": {
        "id": "0OoXxjsMvmhb"
      },
      "outputs": [],
      "source": [
        "embedding_dimension = 32"
      ]
    },
    {
      "cell_type": "markdown",
      "metadata": {
        "id": "nQxVa88bvmhb"
      },
      "source": [
        "#### User embedding tower (Query tower)"
      ]
    },
    {
      "cell_type": "code",
      "execution_count": 39,
      "metadata": {
        "id": "HWINaiY2vmhc"
      },
      "outputs": [],
      "source": [
        "user_model = tf.keras.Sequential([\n",
        "  tf.keras.layers.StringLookup(\n",
        "      vocabulary=unique_user_ids, mask_token=None),\n",
        "  # We add an additional embedding to account for unknown tokens.\n",
        "  tf.keras.layers.Embedding(len(unique_user_ids) + 1, embedding_dimension)\n",
        "])"
      ]
    },
    {
      "cell_type": "markdown",
      "metadata": {
        "id": "Kuq8qqWrvmhc"
      },
      "source": [
        "#### Movies features tower (Candidate tower)"
      ]
    },
    {
      "cell_type": "code",
      "execution_count": 40,
      "metadata": {
        "id": "-R_KtSOGvmhc"
      },
      "outputs": [],
      "source": [
        "movie_model = tf.keras.Sequential([\n",
        "  tf.keras.layers.StringLookup(\n",
        "      vocabulary=unique_movie_titles, mask_token=None),\n",
        "  tf.keras.layers.Embedding(len(unique_movie_titles) + 1, embedding_dimension)\n",
        "])"
      ]
    },
    {
      "cell_type": "markdown",
      "metadata": {
        "id": "t3NnyGgRvmhd"
      },
      "source": [
        "#### Metrics\n",
        "In our training data we have positive (user, movie) pairs. To figure out how good our model is, we need to compare the affinity score that the model calculates for this pair to the scores of all the other possible candidates: if the score for the positive pair is higher than for all other candidates, our model is highly accurate."
      ]
    },
    {
      "cell_type": "code",
      "execution_count": 41,
      "metadata": {
        "id": "45jwkhvKvmhd"
      },
      "outputs": [],
      "source": [
        "metrics = tfrs.metrics.FactorizedTopK(\n",
        "  candidates=movies.batch(128).map(movie_model)\n",
        ")"
      ]
    },
    {
      "cell_type": "markdown",
      "metadata": {
        "id": "_sV_5jItvmhd"
      },
      "source": [
        "#### Loss\n",
        "The next component is the loss used to train our model. TFRS has several loss layers and tasks to make this easy."
      ]
    },
    {
      "cell_type": "code",
      "execution_count": 42,
      "metadata": {
        "id": "Ry7rqCzrvmhe"
      },
      "outputs": [],
      "source": [
        "task = tfrs.tasks.Retrieval(\n",
        "  metrics=metrics\n",
        ")"
      ]
    },
    {
      "cell_type": "markdown",
      "metadata": {
        "id": "sThUEIb7vmhe"
      },
      "source": [
        "Full model"
      ]
    },
    {
      "cell_type": "code",
      "execution_count": 44,
      "metadata": {
        "id": "CryNZHWtvmhe"
      },
      "outputs": [],
      "source": [
        "class MovielensModel(tfrs.Model):\n",
        "\n",
        "  def __init__(self, user_model, movie_model):\n",
        "    super().__init__()\n",
        "    self.movie_model: tf.keras.Model = movie_model\n",
        "    self.user_model: tf.keras.Model = user_model\n",
        "    self.task: tf.keras.layers.Layer = task\n",
        "\n",
        "  def compute_loss(self, features: Dict[Text, tf.Tensor], training=False) -> tf.Tensor:\n",
        "    # We pick out the user features and pass them into the user model.\n",
        "    user_embeddings = self.user_model(features[\"user_id\"])\n",
        "    # And pick out the movie features and pass them into the movie model,\n",
        "    # getting embeddings back.\n",
        "    positive_movie_embeddings = self.movie_model(features[\"movie_title\"])\n",
        "\n",
        "    # The task computes the loss and the metrics.\n",
        "    return self.task(user_embeddings, positive_movie_embeddings)"
      ]
    },
    {
      "cell_type": "markdown",
      "metadata": {
        "id": "w5mvKyEdvmhe"
      },
      "source": [
        "#### Fitting and evaluating"
      ]
    },
    {
      "cell_type": "code",
      "execution_count": 45,
      "metadata": {
        "colab": {
          "base_uri": "https://localhost:8080/"
        },
        "id": "7rSdT9v3vmhf",
        "outputId": "daf31dbe-e180-472d-9027-70c5f505e9f4"
      },
      "outputs": [
        {
          "output_type": "stream",
          "name": "stdout",
          "text": [
            "Epoch 1/3\n",
            "10/10 [==============================] - 38s 3s/step - factorized_top_k/top_1_categorical_accuracy: 0.0012 - factorized_top_k/top_5_categorical_accuracy: 0.0093 - factorized_top_k/top_10_categorical_accuracy: 0.0196 - factorized_top_k/top_50_categorical_accuracy: 0.0954 - factorized_top_k/top_100_categorical_accuracy: 0.1718 - loss: 69808.7443 - regularization_loss: 0.0000e+00 - total_loss: 69808.7443\n",
            "Epoch 2/3\n",
            "10/10 [==============================] - 37s 4s/step - factorized_top_k/top_1_categorical_accuracy: 0.0028 - factorized_top_k/top_5_categorical_accuracy: 0.0180 - factorized_top_k/top_10_categorical_accuracy: 0.0372 - factorized_top_k/top_50_categorical_accuracy: 0.1632 - factorized_top_k/top_100_categorical_accuracy: 0.2824 - loss: 67501.1165 - regularization_loss: 0.0000e+00 - total_loss: 67501.1165\n",
            "Epoch 3/3\n",
            "10/10 [==============================] - 31s 3s/step - factorized_top_k/top_1_categorical_accuracy: 0.0034 - factorized_top_k/top_5_categorical_accuracy: 0.0232 - factorized_top_k/top_10_categorical_accuracy: 0.0457 - factorized_top_k/top_50_categorical_accuracy: 0.1882 - factorized_top_k/top_100_categorical_accuracy: 0.3120 - loss: 66329.5653 - regularization_loss: 0.0000e+00 - total_loss: 66329.5653\n",
            "5/5 [==============================] - 10s 1s/step - factorized_top_k/top_1_categorical_accuracy: 7.5000e-04 - factorized_top_k/top_5_categorical_accuracy: 0.0092 - factorized_top_k/top_10_categorical_accuracy: 0.0216 - factorized_top_k/top_50_categorical_accuracy: 0.1240 - factorized_top_k/top_100_categorical_accuracy: 0.2342 - loss: 31077.6504 - regularization_loss: 0.0000e+00 - total_loss: 31077.6504\n"
          ]
        },
        {
          "output_type": "execute_result",
          "data": {
            "text/plain": [
              "{'factorized_top_k/top_1_categorical_accuracy': 0.000750000006519258,\n",
              " 'factorized_top_k/top_5_categorical_accuracy': 0.009200000204145908,\n",
              " 'factorized_top_k/top_10_categorical_accuracy': 0.02160000056028366,\n",
              " 'factorized_top_k/top_50_categorical_accuracy': 0.12399999797344208,\n",
              " 'factorized_top_k/top_100_categorical_accuracy': 0.23420000076293945,\n",
              " 'loss': 28237.890625,\n",
              " 'regularization_loss': 0,\n",
              " 'total_loss': 28237.890625}"
            ]
          },
          "metadata": {},
          "execution_count": 45
        }
      ],
      "source": [
        "#Initiate the model\n",
        "model = MovielensModel(user_model, movie_model)\n",
        "model.compile(optimizer=tf.keras.optimizers.Adagrad(learning_rate=0.1))\n",
        "\n",
        "#Shuffle\n",
        "cached_train = train.shuffle(100_000).batch(8192).cache()\n",
        "cached_test = test.batch(4096).cache()\n",
        "\n",
        "#Train\n",
        "model.fit(cached_train, epochs=3)\n",
        "\n",
        "#Evaluate\n",
        "model.evaluate(cached_test, return_dict=True)"
      ]
    },
    {
      "cell_type": "markdown",
      "source": [
        "#### Recommending movie title"
      ],
      "metadata": {
        "id": "NgNIbbW1SIfx"
      }
    },
    {
      "cell_type": "code",
      "source": [
        "index = tfrs.layers.factorized_top_k.BruteForce(model.user_model)\n",
        "index.index_from_dataset(\n",
        "  tf.data.Dataset.zip((movies.batch(100), movies.batch(100).map(model.movie_model)))\n",
        ")\n",
        "\n",
        "# Get some recommendations for given user ID.\n",
        "_, titles = index(np.array([\"54\"]))\n",
        "print(f\"Top 10 recommended movies for user 54: \\n{titles[0, :10, ]}\")\n"
      ],
      "metadata": {
        "id": "f-adAwTMRUXt",
        "outputId": "e2600565-9d3c-4cd9-c0fa-44dd0e377cc3",
        "colab": {
          "base_uri": "https://localhost:8080/"
        }
      },
      "execution_count": 64,
      "outputs": [
        {
          "output_type": "stream",
          "name": "stdout",
          "text": [
            "Top 10 recommended movies for user 54: \n",
            "[b'Fled (1996)' b'Daylight (1996)' b'Private Parts (1997)'\n",
            " b'Turbulence (1997)' b'Arrival, The (1996)' b'Fifth Element, The (1997)'\n",
            " b'Fear (1996)' b'Con Air (1997)' b'Breakdown (1997)'\n",
            " b\"Don't Be a Menace to South Central While Drinking Your Juice in the Hood (1996)\"]\n"
          ]
        }
      ]
    }
  ],
  "metadata": {
    "colab": {
      "provenance": [],
      "include_colab_link": true
    },
    "kernelspec": {
      "display_name": "Python 3 (ipykernel)",
      "language": "python",
      "name": "python3"
    },
    "language_info": {
      "codemirror_mode": {
        "name": "ipython",
        "version": 3
      },
      "file_extension": ".py",
      "mimetype": "text/x-python",
      "name": "python",
      "nbconvert_exporter": "python",
      "pygments_lexer": "ipython3",
      "version": "3.11.5"
    }
  },
  "nbformat": 4,
  "nbformat_minor": 0
}